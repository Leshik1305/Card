{
  "nbformat": 4,
  "nbformat_minor": 0,
  "metadata": {
    "colab": {
      "provenance": [],
      "authorship_tag": "ABX9TyPMdvMDYkgdqHN4GdFFeIeh",
      "include_colab_link": true
    },
    "kernelspec": {
      "name": "python3",
      "display_name": "Python 3"
    },
    "language_info": {
      "name": "python"
    }
  },
  "cells": [
    {
      "cell_type": "markdown",
      "metadata": {
        "id": "view-in-github",
        "colab_type": "text"
      },
      "source": [
        "<a href=\"https://colab.research.google.com/github/Leshik1305/Card/blob/main/fibonacci_dict.ipynb\" target=\"_parent\"><img src=\"https://colab.research.google.com/assets/colab-badge.svg\" alt=\"Open In Colab\"/></a>"
      ]
    },
    {
      "cell_type": "code",
      "source": [
        "def  fibonacci_dict(n):\n",
        "  dict_fib = {}\n",
        "  for i in range(n+1):\n",
        "    l = []\n",
        "    count = 0\n",
        "    num1 = 0\n",
        "    num2 = 1\n",
        "    while count <= i:\n",
        "      l.append(num1)\n",
        "      count += 1\n",
        "      num1, num2 = num2, num1+num2\n",
        "    dict_fib[i]=l\n",
        "  return dict_fib\n"
      ],
      "metadata": {
        "id": "j_hevhuygwBP"
      },
      "execution_count": null,
      "outputs": []
    },
    {
      "cell_type": "code",
      "source": [
        "f = fibonacci_dict(5)\n",
        "f"
      ],
      "metadata": {
        "colab": {
          "base_uri": "https://localhost:8080/"
        },
        "id": "NAZCCZfKji5c",
        "outputId": "09b0d101-ae00-445f-9759-dec5ec778626"
      },
      "execution_count": null,
      "outputs": [
        {
          "output_type": "execute_result",
          "data": {
            "text/plain": [
              "{0: [0],\n",
              " 1: [0, 1],\n",
              " 2: [0, 1, 1],\n",
              " 3: [0, 1, 1, 2],\n",
              " 4: [0, 1, 1, 2, 3],\n",
              " 5: [0, 1, 1, 2, 3, 5]}"
            ]
          },
          "metadata": {},
          "execution_count": 21
        }
      ]
    },
    {
      "cell_type": "code",
      "source": [
        "f = fibonacci_dict(10)\n",
        "f"
      ],
      "metadata": {
        "colab": {
          "base_uri": "https://localhost:8080/"
        },
        "id": "Dqr1NS2dH1aU",
        "outputId": "a1f8942e-2bfb-4a75-f1f9-d2cbcce93883"
      },
      "execution_count": null,
      "outputs": [
        {
          "output_type": "execute_result",
          "data": {
            "text/plain": [
              "{0: [0],\n",
              " 1: [0, 1],\n",
              " 2: [0, 1, 1],\n",
              " 3: [0, 1, 1, 2],\n",
              " 4: [0, 1, 1, 2, 3],\n",
              " 5: [0, 1, 1, 2, 3, 5],\n",
              " 6: [0, 1, 1, 2, 3, 5, 8],\n",
              " 7: [0, 1, 1, 2, 3, 5, 8, 13],\n",
              " 8: [0, 1, 1, 2, 3, 5, 8, 13, 21],\n",
              " 9: [0, 1, 1, 2, 3, 5, 8, 13, 21, 34],\n",
              " 10: [0, 1, 1, 2, 3, 5, 8, 13, 21, 34, 55]}"
            ]
          },
          "metadata": {},
          "execution_count": 18
        }
      ]
    },
    {
      "cell_type": "code",
      "source": [],
      "metadata": {
        "id": "SOPdlR9kIHdn"
      },
      "execution_count": null,
      "outputs": []
    }
  ]
}